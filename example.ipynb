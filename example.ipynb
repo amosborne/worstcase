{
 "cells": [
  {
   "cell_type": "markdown",
   "id": "f8c11dba-7889-46e7-b7ed-1a028817a590",
   "metadata": {},
   "source": [
    "# Overview\n",
    "\n",
    "The following calculation computes the end-to-end measurement uncertainty of the high-side current-sensing circuit design proposed by this [application note](https://www.ti.com/lit/an/sboa310a/sboa310a.pdf) published by Texas Instruments. A more detailed discussion about this code and how it can be best applied to real-world engineering scenarios is available in this [blog post](https://www.osborneee.com/worstcase/)."
   ]
  },
  {
   "cell_type": "code",
   "execution_count": 1,
   "id": "b2483ecc-ce43-46e5-b1c5-e568fa192376",
   "metadata": {},
   "outputs": [],
   "source": [
    "from pprint import pprint as print\n",
    "\n",
    "import numpy as np\n",
    "from scipy.linalg import solve\n",
    "\n",
    "from worstcase import derive, param, unit"
   ]
  },
  {
   "cell_type": "markdown",
   "id": "ba4cf8f2-8e40-4f58-9511-40de11b63903",
   "metadata": {},
   "source": [
    "## Define Input Parameters"
   ]
  },
  {
   "cell_type": "code",
   "execution_count": 2,
   "id": "a763af4e-8759-4e01-a1cf-474415ce1cf9",
   "metadata": {},
   "outputs": [
    {
     "name": "stdout",
     "output_type": "stream",
     "text": [
      "[R1: 100 mΩ (nom), 99 mΩ (lb), 101 mΩ (ub),\n",
      " R2: 1.001 kΩ (nom), 991 Ω (lb), 1.011 kΩ (ub),\n",
      " R3: 50.5 kΩ (nom), 49.99 kΩ (lb), 51.01 kΩ (ub),\n",
      " R4: 1.001 kΩ (nom), 991 Ω (lb), 1.011 kΩ (ub),\n",
      " R5: 50.5 kΩ (nom), 49.99 kΩ (lb), 51.01 kΩ (ub),\n",
      " VOS: 0 mV (nom), -150 µV (lb), 150 µV (ub)]\n"
     ]
    }
   ],
   "source": [
    "# define the resistor uncertainties\n",
    "R1 = param.bytol(nom=100 * unit.mohm, tol=0.01, rel=True, tag=\"R1\")\n",
    "R2 = param.bytol(nom=1.001 * unit.kohm, tol=0.01, rel=True, tag=\"R2\")\n",
    "R3 = param.bytol(nom=50.5 * unit.kohm, tol=0.01, rel=True, tag=\"R3\")\n",
    "R4 = param.bytol(nom=1.001 * unit.kohm, tol=0.01, rel=True, tag=\"R4\")\n",
    "R5 = param.bytol(nom=50.5 * unit.kohm, tol=0.01, rel=True, tag=\"R5\")\n",
    "\n",
    "# define the amplifier offset voltage\n",
    "VOS = param.bytol(nom=0 * unit.mV, tol=150 * unit.uV, rel=False, tag=\"VOS\")\n",
    "\n",
    "print([R1, R2, R3, R4, R5, VOS])"
   ]
  },
  {
   "cell_type": "markdown",
   "id": "7e022677-6119-42d6-bc7b-2c644c16ed18",
   "metadata": {},
   "source": [
    "## Define End-to-End Uncertainty Equations"
   ]
  },
  {
   "cell_type": "code",
   "execution_count": 3,
   "id": "7107cdd8-aad2-41de-997c-44a38b95cd65",
   "metadata": {},
   "outputs": [],
   "source": [
    "# define the output voltage\n",
    "@derive.byev(r1=R1, r2=R2, r3=R3, r4=R4, r5=R5, vos=VOS)\n",
    "def VO(vbus, iload, r1, r2, r3, r4, r5, vos):\n",
    "    vp = vbus * r3 / (r2 + r3)\n",
    "    vn = vp + vos\n",
    "    vo = vn - (vbus - r1 * iload - vn) * r5 / r4\n",
    "    return vo"
   ]
  },
  {
   "cell_type": "code",
   "execution_count": 4,
   "id": "e3fb9a65-5d73-436a-90ff-c16dedcdeb14",
   "metadata": {},
   "outputs": [],
   "source": [
    "# define the end-to-end uncertainty\n",
    "@derive.byev(r1=R1, r2=R2, r3=R3, r4=R4, r5=R5, vos=VOS)\n",
    "def IUNC(r1, r2, r3, r4, r5, vos, vbus, iload):\n",
    "    vo = VO(vbus, iload, r1, r2, r3, r4, r5, vos)\n",
    "    return vo / VO(vbus, iload).nom * iload - iload"
   ]
  },
  {
   "cell_type": "markdown",
   "id": "de00ccee-08b0-4f89-a336-6184a0855c96",
   "metadata": {},
   "source": [
    "## Calculate End-to-End Uncertainty @ 36V, 1A"
   ]
  },
  {
   "cell_type": "code",
   "execution_count": 5,
   "id": "928e2b51-1e1d-4c8d-9c7b-c9d42290a81c",
   "metadata": {},
   "outputs": [
    {
     "name": "stdout",
     "output_type": "stream",
     "text": [
      "[VOUT_1A: 5.045 V (nom), 3.647 V (lb), 6.387 V (ub),\n",
      " IUNC_1A: 0 A (nom), -277 mA (lb), 266 mA (ub)]\n"
     ]
    }
   ],
   "source": [
    "# calculate at 36V, 1A operating point\n",
    "VOUT_1A = VO(vbus=36 * unit.V, iload=1 * unit.A, tag=\"VOUT_1A\")\n",
    "IUNC_1A = IUNC(vbus=36 * unit.V, iload=1 * unit.A, tag=\"IUNC_1A\")\n",
    "\n",
    "print([VOUT_1A, IUNC_1A])"
   ]
  },
  {
   "cell_type": "code",
   "execution_count": 6,
   "id": "497917d7-d473-4bf1-b6d1-39508e7348fd",
   "metadata": {},
   "outputs": [
    {
     "name": "stdout",
     "output_type": "stream",
     "text": [
      "[IUNC_1A-R1-sens: 0 A (nom), -10 mA (lb), 10 mA (ub),\n",
      " IUNC_1A-VOS-sens: 0 A (nom), -1.53 mA (lb), 1.53 mA (ub),\n",
      " IUNC_1A-R2-thru-R5-sens: 0 A (nom), -265.3 mA (lb), 254.7 mA (ub)]\n"
     ]
    }
   ],
   "source": [
    "# perform sensitivity study at the 36V, 1A operating point\n",
    "IUNC_1A_sensitivities = [\n",
    "    IUNC_1A(tag=\"IUNC_1A-R1-sens\").ss(R1),\n",
    "    IUNC_1A(tag=\"IUNC_1A-VOS-sens\").ss(VOS),\n",
    "    IUNC_1A(tag=\"IUNC_1A-R2-thru-R5-sens\").ss([R2, R3, R4, R5]),\n",
    "]\n",
    "\n",
    "print(IUNC_1A_sensitivities)"
   ]
  },
  {
   "cell_type": "markdown",
   "id": "f36a1b89-65e6-40ac-8fe7-ba85389619f1",
   "metadata": {},
   "source": [
    "## Calculate End-to-End Uncertainty @ 36V, 50mA"
   ]
  },
  {
   "cell_type": "code",
   "execution_count": 7,
   "id": "bd0416de-cb5e-46a6-ae4f-9c08fb705b08",
   "metadata": {},
   "outputs": [
    {
     "name": "stdout",
     "output_type": "stream",
     "text": [
      "[VOUT_50mA: 252.2 mV (nom), -1.193 V (lb), 1.642 V (ub),\n",
      " IUNC_50mA: 0 mA (nom), -286.5 mA (lb), 275.5 mA (ub)]\n"
     ]
    }
   ],
   "source": [
    "# calculate at 36V, 50mA operating point\n",
    "VOUT_50mA = VO(vbus=36 * unit.V, iload=50 * unit.mA, tag=\"VOUT_50mA\")\n",
    "IUNC_50mA = IUNC(vbus=36 * unit.V, iload=50 * unit.mA, tag=\"IUNC_50mA\")\n",
    "\n",
    "print([VOUT_50mA, IUNC_50mA])"
   ]
  },
  {
   "cell_type": "code",
   "execution_count": 8,
   "id": "ee8521e6-9a61-4a6c-9e60-6c9f2a2e1910",
   "metadata": {},
   "outputs": [
    {
     "name": "stdout",
     "output_type": "stream",
     "text": [
      "[IUNC_50mA-R1-sens: 0 mA (nom), -500 µA (lb), 500 µA (ub),\n",
      " IUNC_50mA-VOS-sens: 0 mA (nom), -1.53 mA (lb), 1.53 mA (ub),\n",
      " IUNC_50mA-R2-thru-R5-sens: 0 mA (nom), -284.4 mA (lb), 273.5 mA (ub)]\n"
     ]
    }
   ],
   "source": [
    "# perform sensitivity study at the 36V, 50mA operating point\n",
    "IUNC_50mA_sensitivities = [\n",
    "    IUNC_50mA(tag=\"IUNC_50mA-R1-sens\").ss(R1),\n",
    "    IUNC_50mA(tag=\"IUNC_50mA-VOS-sens\").ss(VOS),\n",
    "    IUNC_50mA(tag=\"IUNC_50mA-R2-thru-R5-sens\").ss([R2, R3, R4, R5]),\n",
    "]\n",
    "\n",
    "print(IUNC_50mA_sensitivities)"
   ]
  },
  {
   "cell_type": "markdown",
   "id": "fd75c12b-fe7c-4c98-95b0-d3fef68f5f1d",
   "metadata": {},
   "source": [
    "## Numerically Solve for the Common-Mode Gain"
   ]
  },
  {
   "cell_type": "code",
   "execution_count": 9,
   "id": "90775fb7-91d1-4d50-b606-cc184a2b3eee",
   "metadata": {},
   "outputs": [],
   "source": [
    "@derive.byev(R1, R2, R3, R4, R5, VOS, tag=\"CMGAIN\")\n",
    "def CMGAIN(r1, r2, r3, r4, r5, vos):\n",
    "    def cmgain_constraints(vbus, iload):\n",
    "        vo = VO(vbus, iload, r1, r2, r3, r4, r5, vos)\n",
    "        vdm = r1 * iload\n",
    "        vcm = vbus - r1 * iload / 2\n",
    "        return vo.m, vdm.m, vcm.m  # strip units for scipy compatibility\n",
    "\n",
    "    # three equations for three unknowns (Adm, Acm, Voff)\n",
    "    vo1, vdm1, vcm1 = cmgain_constraints(0 * unit.V, 0 * unit.A)\n",
    "    vo2, vdm2, vcm2 = cmgain_constraints(1 * unit.V, 10 * unit.A)\n",
    "    vo3, vdm3, vcm3 = cmgain_constraints(3 * unit.V, 20 * unit.A)\n",
    "\n",
    "    b = np.array([vo1, vo2, vo3])\n",
    "    A = np.array([[vcm1, vdm1, 1], [vcm2, vdm2, 1], [vcm3, vdm3, 1]])\n",
    "    x = solve(A, b)\n",
    "    return x[0] * unit([])  # reappend units (dimensionless)"
   ]
  },
  {
   "cell_type": "code",
   "execution_count": 10,
   "id": "d513487b-a0af-4e2a-8e23-23f0ad06b889",
   "metadata": {},
   "outputs": [
    {
     "name": "stdout",
     "output_type": "stream",
     "text": [
      "CMGAIN: 2.842E-14 (nom), -0.04 (lb), 0.03846 (ub)\n"
     ]
    }
   ],
   "source": [
    "print(CMGAIN)"
   ]
  },
  {
   "cell_type": "code",
   "execution_count": 11,
   "id": "41f9bdc4-8aed-4713-9290-94f0bb5a0023",
   "metadata": {},
   "outputs": [
    {
     "name": "stdout",
     "output_type": "stream",
     "text": [
      "CMGAIN-R2-thru-R5-sens: 2.842E-14 (nom), -0.04 (lb), 0.03846 (ub)\n"
     ]
    }
   ],
   "source": [
    "CMGAIN_sensitivity = CMGAIN(tag=\"CMGAIN-R2-thru-R5-sens\").ss([R2, R3, R4, R5])\n",
    "print(CMGAIN_sensitivity)"
   ]
  }
 ],
 "metadata": {
  "kernelspec": {
   "display_name": "Python 3 (ipykernel)",
   "language": "python",
   "name": "python3"
  },
  "language_info": {
   "codemirror_mode": {
    "name": "ipython",
    "version": 3
   },
   "file_extension": ".py",
   "mimetype": "text/x-python",
   "name": "python",
   "nbconvert_exporter": "python",
   "pygments_lexer": "ipython3",
   "version": "3.11.1"
  }
 },
 "nbformat": 4,
 "nbformat_minor": 5
}
