{
 "cells": [
  {
   "cell_type": "markdown",
   "id": "7213769f-e2fe-4742-afda-50aef0e44662",
   "metadata": {},
   "source": [
    "# Worst Case Analysis of Voltage Divider\n",
    "\n",
    "Three resistors, $R_1$ (10k +/- 5%), $R_2$ (30k +/- 1%), and $R_3$ (10k) are in series from $V_{in}$ (5V +100mV / -50mV) to ground. Determine the worst-case variation of $V_{out}=V_{in}\\cdot R_3/(R_1+R_2+R_3)$ by either Monte Carlo or Extreme Value analysis.\n",
    "\n",
    "Which analysis method to use is generally dependent on two factors:\n",
    "1. How many variables are there? Extreme Value analysis is performed by brute force; any more than ~10 parameters may take a very long time to compute.\n",
    "2. Is it likely that the worst case occurs at the extremes of the inputs, or somewhere in the middle? Monte Carlo will be the better choice if maximum resonance is sought, for example.\n",
    "\n",
    "Functions can of course be nested; a Monte Carlo analysis could be fed into by an Extreme Value analysis, or vice-versa."
   ]
  },
  {
   "cell_type": "code",
   "execution_count": 1,
   "id": "837c4fdc-3bbf-4e1d-833c-615a7d73fe60",
   "metadata": {},
   "outputs": [],
   "source": [
    "%reload_ext lab_black"
   ]
  },
  {
   "cell_type": "code",
   "execution_count": 2,
   "id": "regulated-baseball",
   "metadata": {},
   "outputs": [],
   "source": [
    "import numpy as np\n",
    "import worstcase as wca"
   ]
  },
  {
   "cell_type": "code",
   "execution_count": 3,
   "id": "ab874b5d-a414-4769-bb18-17c5c117b7b7",
   "metadata": {},
   "outputs": [],
   "source": [
    "wca.config.n = 2000  # default: 5000\n",
    "wca.config.sigfig = 4  # default: 3"
   ]
  },
  {
   "cell_type": "code",
   "execution_count": 4,
   "id": "af17faab-4ebf-4b5f-9f42-a6df621f71e2",
   "metadata": {},
   "outputs": [],
   "source": [
    "# unit (default: unitless) and tag (default: \"\") are optional\n",
    "spd_initial = wca.param.bytol(nom=2, tol=0.1, rel=True, unit=wca.unit(\"m/s\"), tag=\"v0\")\n",
    "accel = wca.param.byrange(nom=0.2, lb=0.1, ub=0.5, unit=wca.unit(\"m/s**2\"), tag=\"a\")\n",
    "distance = wca.param.byrange(nom=1, lb=0.8, ub=1.1, unit=wca.unit.km, tag=\"dx\")"
   ]
  },
  {
   "cell_type": "code",
   "execution_count": 5,
   "id": "76218ba8-f8b8-4483-8d9f-6fe422031dc5",
   "metadata": {},
   "outputs": [
    {
     "name": "stdout",
     "output_type": "stream",
     "text": [
      "v0: 2 m/s (nom), 1.8 m/s (min), 2.2 m/s (max)\n",
      "a: 200 mm/s² (nom), 100 mm/s² (min), 500 mm/s² (max)\n",
      "dx: 1 km (nom), 800 m (min), 1.1 km (max)\n"
     ]
    }
   ],
   "source": [
    "print(spd_initial)\n",
    "print(accel)\n",
    "print(distance)"
   ]
  },
  {
   "cell_type": "code",
   "execution_count": 6,
   "id": "4015818b-ffc6-43a3-a777-414fe5ab7d1f",
   "metadata": {},
   "outputs": [],
   "source": [
    "# tag is take to be function.__name__ as the default\n",
    "@wca.param.ev(spd_initial, accel.nom, distance)\n",
    "def spd_final(v, a, x):\n",
    "    return np.sqrt(v ** 2 + 2 * a * x)"
   ]
  },
  {
   "cell_type": "code",
   "execution_count": 7,
   "id": "e730f0da-db02-46be-a461-309b89bb26c3",
   "metadata": {},
   "outputs": [
    {
     "data": {
      "text/plain": [
       "spd_final (ev)\n",
       "├── dx\n",
       "└── v0"
      ]
     },
     "execution_count": 7,
     "metadata": {},
     "output_type": "execute_result"
    }
   ],
   "source": [
    "spd_final"
   ]
  },
  {
   "cell_type": "code",
   "execution_count": 8,
   "id": "1d1650d2-6d19-45f7-b11c-7a09e37e1cee",
   "metadata": {},
   "outputs": [
    {
     "data": {
      "text/plain": [
       "spd_final: 20.1 m/s (nom), 17.98 m/s (min), 21.09 m/s (max)"
      ]
     },
     "execution_count": 8,
     "metadata": {},
     "output_type": "execute_result"
    }
   ],
   "source": [
    "spd_final()"
   ]
  },
  {
   "cell_type": "code",
   "execution_count": 9,
   "id": "11bba404-7ca3-48c2-92d2-93c0109628ef",
   "metadata": {},
   "outputs": [],
   "source": [
    "spd_final_noaccel = spd_final(a=0 * wca.unit(\"m/s**2\"), tag=\"spd_noaccel\")"
   ]
  },
  {
   "cell_type": "code",
   "execution_count": 10,
   "id": "f028cdb8-9695-4afa-b7a9-b06ccc55a975",
   "metadata": {},
   "outputs": [
    {
     "data": {
      "text/plain": [
       "spd_noaccel (ev)\n",
       "├── dx\n",
       "└── v0"
      ]
     },
     "execution_count": 10,
     "metadata": {},
     "output_type": "execute_result"
    }
   ],
   "source": [
    "spd_final_noaccel"
   ]
  },
  {
   "cell_type": "code",
   "execution_count": 11,
   "id": "36be6b49-71ef-4b92-80f8-79abbfcd4af1",
   "metadata": {},
   "outputs": [
    {
     "data": {
      "text/plain": [
       "spd_noaccel: 2 m/s (nom), 1.8 m/s (min), 2.2 m/s (max)"
      ]
     },
     "execution_count": 11,
     "metadata": {},
     "output_type": "execute_result"
    }
   ],
   "source": [
    "spd_final_noaccel()"
   ]
  },
  {
   "cell_type": "code",
   "execution_count": 12,
   "id": "72958070-3114-4deb-9501-acd343156bee",
   "metadata": {},
   "outputs": [],
   "source": [
    "spd_relative = wca.param.bytol(\n",
    "    nom=20, tol=1, rel=False, unit=wca.unit(\"mi/hr\"), tag=\"vrel\"\n",
    ")"
   ]
  },
  {
   "cell_type": "code",
   "execution_count": 13,
   "id": "60bd52d1-64c6-41ef-ae71-8f5b2f374bb3",
   "metadata": {},
   "outputs": [
    {
     "name": "stdout",
     "output_type": "stream",
     "text": [
      "vrel: 20 mi/hr (nom), 19 mi/hr (min), 21 mi/hr (max)\n"
     ]
    }
   ],
   "source": [
    "print(spd_relative)"
   ]
  },
  {
   "cell_type": "code",
   "execution_count": 14,
   "id": "59930254-2107-4223-bd41-fc9fc37758ca",
   "metadata": {},
   "outputs": [],
   "source": [
    "@wca.param.mc(spd_final, spd_relative)\n",
    "def spd_total(vf, vr):\n",
    "    return vf + vr"
   ]
  },
  {
   "cell_type": "code",
   "execution_count": 15,
   "id": "d3a61fcc-cd63-4c60-8e24-f0ceb19c7144",
   "metadata": {},
   "outputs": [
    {
     "data": {
      "text/plain": [
       "spd_total (mc)\n",
       "├── spd_final (ev)\n",
       "│   ├── dx\n",
       "│   └── v0\n",
       "└── vrel"
      ]
     },
     "execution_count": 15,
     "metadata": {},
     "output_type": "execute_result"
    }
   ],
   "source": [
    "spd_total"
   ]
  },
  {
   "cell_type": "code",
   "execution_count": 16,
   "id": "04327b2f-0965-4b40-bf76-a0e63e0b561e",
   "metadata": {},
   "outputs": [
    {
     "data": {
      "text/plain": [
       "spd_total: 29.04 m/s (nom), 26.5 m/s (min), 30.42 m/s (max)"
      ]
     },
     "execution_count": 16,
     "metadata": {},
     "output_type": "execute_result"
    }
   ],
   "source": [
    "spd_total()"
   ]
  },
  {
   "cell_type": "code",
   "execution_count": 17,
   "id": "9a0a404e-0f35-470c-8488-0e2edf257995",
   "metadata": {},
   "outputs": [
    {
     "name": "stdout",
     "output_type": "stream",
     "text": [
      "29.040551242241783 meter / second\n",
      "distance-sens: 29.04 m/s (nom), 26.94 m/s (min), 30.01 m/s (max)\n",
      "accel/distance-sens: 29.04 m/s (nom), 26.94 m/s (min), 30.01 m/s (max)\n",
      "final-speed-sens: 29.04 m/s (nom), 26.92 m/s (min), 30.03 m/s (max)\n",
      "rel-speed-sens: 29.04 m/s (nom), 28.59 m/s (min), 29.49 m/s (max)\n"
     ]
    }
   ],
   "source": [
    "print(spd_total.ss(accel, tag=\"accel-sens\")())\n",
    "print(spd_total.ss(distance, tag=\"distance-sens\")())\n",
    "print(spd_total.ss([accel, distance], tag=\"accel/distance-sens\")())\n",
    "\n",
    "print(spd_total.ss(spd_final, tag=\"final-speed-sens\")())\n",
    "print(spd_total.ss(spd_relative, tag=\"rel-speed-sens\")())"
   ]
  },
  {
   "cell_type": "code",
   "execution_count": 18,
   "id": "cbef880b-68e1-47bb-8e64-8532c50e6da0",
   "metadata": {},
   "outputs": [
    {
     "data": {
      "text/plain": [
       "accel/distance-sens (mc)\n",
       "└── spd_final (ev)\n",
       "    └── dx"
      ]
     },
     "execution_count": 18,
     "metadata": {},
     "output_type": "execute_result"
    }
   ],
   "source": [
    "spd_total.ss([accel, distance], tag=\"accel/distance-sens\")"
   ]
  },
  {
   "cell_type": "code",
   "execution_count": 19,
   "id": "6d64d0b9-4307-44cb-8a13-39f99d526f0e",
   "metadata": {},
   "outputs": [
    {
     "data": {
      "text/plain": [
       "final-speed-sens (mc)\n",
       "└── spd_final (ev)\n",
       "    ├── dx\n",
       "    └── v0"
      ]
     },
     "execution_count": 19,
     "metadata": {},
     "output_type": "execute_result"
    }
   ],
   "source": [
    "spd_total.ss(spd_final, tag=\"final-speed-sens\")"
   ]
  },
  {
   "cell_type": "code",
   "execution_count": 20,
   "id": "ff7e9b5e-8871-4d96-b4fa-7dd673dd729a",
   "metadata": {},
   "outputs": [
    {
     "data": {
      "text/plain": [
       "rel-speed-sens (mc)\n",
       "├── spd_final (ev)\n",
       "│   └── v0\n",
       "└── vrel"
      ]
     },
     "execution_count": 20,
     "metadata": {},
     "output_type": "execute_result"
    }
   ],
   "source": [
    "spd_total.ss([spd_relative, spd_initial], tag=\"rel-speed-sens\")"
   ]
  }
 ],
 "metadata": {
  "kernelspec": {
   "display_name": "Python 3",
   "language": "python",
   "name": "python3"
  },
  "language_info": {
   "codemirror_mode": {
    "name": "ipython",
    "version": 3
   },
   "file_extension": ".py",
   "mimetype": "text/x-python",
   "name": "python",
   "nbconvert_exporter": "python",
   "pygments_lexer": "ipython3",
   "version": "3.9.4"
  }
 },
 "nbformat": 4,
 "nbformat_minor": 5
}
