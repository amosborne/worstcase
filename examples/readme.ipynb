{
 "cells": [
  {
   "cell_type": "code",
   "execution_count": 1,
   "id": "93c1398a-5c4a-4d5d-8fd1-19650a277a05",
   "metadata": {},
   "outputs": [],
   "source": [
    "%reload_ext lab_black\n",
    "from pprint import pprint\n",
    "from worstcase import config, param, derive, unit"
   ]
  },
  {
   "cell_type": "code",
   "execution_count": 6,
   "id": "77e0359c-c735-4764-b9a8-1641d96d1da6",
   "metadata": {},
   "outputs": [],
   "source": [
    "config.n = 2000  # Number of Monte Carlo runs. (default: 5000)\n",
    "config.sigfig = 3  # Number of significant figures to print. (default: 4)"
   ]
  },
  {
   "cell_type": "code",
   "execution_count": 7,
   "id": "27546525-e623-4bd8-bc2d-0a7723b9092c",
   "metadata": {},
   "outputs": [
    {
     "name": "stdout",
     "output_type": "stream",
     "text": [
      "[voltage-in: 5 V (nom), 4.8 V (lb), 5.1 V (ub),\n",
      " top-resistor: 5 kΩ (nom), 4.75 kΩ (lb), 5.25 kΩ (ub),\n",
      " bottom-resistor: 15 kΩ (nom), 13.5 kΩ (lb), 16.5 kΩ (ub)]\n"
     ]
    }
   ],
   "source": [
    "VIN = param.byrange(nom=5 * unit.V, lb=4.8 * unit.V, ub=5.1 * unit.V, tag=\"voltage-in\")\n",
    "RTOP = param.bytol(nom=5 * unit.kohm, tol=0.05, rel=True, tag=\"top-resistor\")\n",
    "RBOT = param.bytol(nom=15 * unit.kohm, tol=0.10, rel=True, tag=\"bottom-resistor\")\n",
    "\n",
    "pprint([VIN, RTOP, RBOT])"
   ]
  },
  {
   "cell_type": "code",
   "execution_count": 8,
   "id": "3e791f68-c08e-4c03-88c0-a804d9aa186c",
   "metadata": {},
   "outputs": [
    {
     "name": "stdout",
     "output_type": "stream",
     "text": [
      "voltage-out: 3.75 V (nom), 3.47 V (lb), 3.94 V (ub)\n"
     ]
    }
   ],
   "source": [
    "@derive.bymc(vin=VIN, rtop=RTOP, rbot=RBOT, tag=\"voltage-out\")\n",
    "def vout(vin, rtop, rbot):\n",
    "    return vin * rbot / (rtop + rbot)\n",
    "\n",
    "\n",
    "VOUT = vout()\n",
    "\n",
    "print(VOUT)"
   ]
  },
  {
   "cell_type": "code",
   "execution_count": 18,
   "id": "f0c84765-f4b3-4e0b-8168-c578e1e418ec",
   "metadata": {},
   "outputs": [
    {
     "data": {
      "text/plain": [
       "3.456"
      ]
     },
     "execution_count": 18,
     "metadata": {},
     "output_type": "execute_result"
    }
   ],
   "source": [
    "vout(4.8, 5.25, 13.5)"
   ]
  },
  {
   "cell_type": "code",
   "execution_count": null,
   "id": "91ac0310-d8cd-4381-b185-9d7a73edc2e6",
   "metadata": {},
   "outputs": [],
   "source": []
  },
  {
   "cell_type": "code",
   "execution_count": 2,
   "id": "regulated-baseball",
   "metadata": {},
   "outputs": [],
   "source": [
    "import worstcase as wca\n",
    "import numpy as np\n",
    "from pprint import pprint\n",
    "\n",
    "wca.config.n = 2000  # Number of Monte Carlo runs. (default: 5000)\n",
    "wca.config.sigfig = 4  # Number of significant firues to print. (default: 3)"
   ]
  },
  {
   "cell_type": "code",
   "execution_count": 3,
   "id": "af17faab-4ebf-4b5f-9f42-a6df621f71e2",
   "metadata": {},
   "outputs": [
    {
     "name": "stdout",
     "output_type": "stream",
     "text": [
      "[v0: 2 m/s (nom), 1.8 m/s (lb), 2.2 m/s (ub),\n",
      " a: 200 mm/s² (nom), 100 mm/s² (lb), 500 mm/s² (ub),\n",
      " x: 1 km (nom), 800 m (lb), 1.1 km (ub)]\n"
     ]
    }
   ],
   "source": [
    "spd_initial = wca.param.bytol(nom=2, tol=0.1, rel=True, unit=wca.unit(\"m/s\"), tag=\"v0\")\n",
    "accel = wca.param.byrange(nom=0.2, lb=0.1, ub=0.5, unit=wca.unit(\"m/s**2\"), tag=\"a\")\n",
    "distance = wca.param.byrange(nom=1, lb=0.8, ub=1.1, unit=wca.unit.km, tag=\"x\")\n",
    "\n",
    "pprint([spd_initial, accel, distance])"
   ]
  },
  {
   "cell_type": "code",
   "execution_count": 4,
   "id": "4015818b-ffc6-43a3-a777-414fe5ab7d1f",
   "metadata": {},
   "outputs": [
    {
     "name": "stdout",
     "output_type": "stream",
     "text": [
      "spd_final (ev)\n",
      "├── a\n",
      "├── v0\n",
      "└── x\n",
      "\n"
     ]
    }
   ],
   "source": [
    "@wca.param.ev(spd_initial, accel, distance)\n",
    "def spd_final(v, a, x):\n",
    "    return np.sqrt(v ** 2 + 2 * a * x)\n",
    "\n",
    "\n",
    "print(spd_final)"
   ]
  },
  {
   "cell_type": "code",
   "execution_count": 5,
   "id": "625e95d8-64c6-4860-a150-327f6d2fd6c3",
   "metadata": {},
   "outputs": [
    {
     "name": "stdout",
     "output_type": "stream",
     "text": [
      "spd_final: 20.1 m/s (nom), 12.78 m/s (lb), 33.24 m/s (ub)\n"
     ]
    }
   ],
   "source": [
    "print(spd_final())"
   ]
  },
  {
   "cell_type": "code",
   "execution_count": 6,
   "id": "11bba404-7ca3-48c2-92d2-93c0109628ef",
   "metadata": {},
   "outputs": [
    {
     "name": "stdout",
     "output_type": "stream",
     "text": [
      "spd_noaccel (ev)\n",
      "├── v0\n",
      "└── x\n",
      "\n"
     ]
    }
   ],
   "source": [
    "spd_final_noaccel = spd_final(a=0 * wca.unit(\"m/s**2\"), tag=\"spd_noaccel\")\n",
    "print(spd_final_noaccel)"
   ]
  },
  {
   "cell_type": "code",
   "execution_count": 7,
   "id": "f028cdb8-9695-4afa-b7a9-b06ccc55a975",
   "metadata": {},
   "outputs": [
    {
     "name": "stdout",
     "output_type": "stream",
     "text": [
      "3.0 meter / second\n"
     ]
    }
   ],
   "source": [
    "result = spd_final_noaccel(3 * wca.unit(\"m/s\"), x=10 * wca.unit.m)\n",
    "print(result)"
   ]
  },
  {
   "cell_type": "code",
   "execution_count": 8,
   "id": "59930254-2107-4223-bd41-fc9fc37758ca",
   "metadata": {},
   "outputs": [
    {
     "name": "stdout",
     "output_type": "stream",
     "text": [
      "spd_total (mc)\n",
      "├── spd_final (ev)\n",
      "│   ├── a\n",
      "│   ├── v0\n",
      "│   └── x\n",
      "└── vrel\n",
      "\n",
      "spd_total: 29.04 m/s (nom), 21.41 m/s (lb), 42.57 m/s (ub)\n"
     ]
    }
   ],
   "source": [
    "spd_rel = wca.param.bytol(nom=20, tol=1, rel=False, unit=wca.unit(\"mi/hr\"), tag=\"vrel\")\n",
    "\n",
    "\n",
    "@wca.param.mc(spd_final, spd_rel)\n",
    "def spd_total(vf, vr):\n",
    "    return vf + vr\n",
    "\n",
    "\n",
    "print(spd_total)\n",
    "print(spd_total())"
   ]
  },
  {
   "cell_type": "code",
   "execution_count": 9,
   "id": "88797123-e368-4794-a20c-6326d5d5baa3",
   "metadata": {},
   "outputs": [
    {
     "name": "stdout",
     "output_type": "stream",
     "text": [
      "accel-sens (mc)\n",
      "└── spd_final (ev)\n",
      "    └── a\n",
      "\n",
      "accel-sens: 29.04 m/s (nom), 23.23 m/s (lb), 40.62 m/s (ub)\n"
     ]
    }
   ],
   "source": [
    "accel_sens = spd_total.ss(accel, tag=\"accel-sens\")\n",
    "print(accel_sens)\n",
    "print(accel_sens())"
   ]
  },
  {
   "cell_type": "code",
   "execution_count": 10,
   "id": "da821430-6fa3-49de-939c-2855ff7e4aa9",
   "metadata": {},
   "outputs": [
    {
     "name": "stdout",
     "output_type": "stream",
     "text": [
      "accel/distance-sens (mc)\n",
      "└── spd_final (ev)\n",
      "    ├── a\n",
      "    └── x\n",
      "\n",
      "accel/distance-sens: 29.04 m/s (nom), 21.75 m/s (lb), 42.16 m/s (ub)\n"
     ]
    }
   ],
   "source": [
    "accel_distance_sens = spd_total.ss([accel, distance], tag=\"accel/distance-sens\")\n",
    "print(accel_distance_sens)\n",
    "print(accel_distance_sens())"
   ]
  },
  {
   "cell_type": "code",
   "execution_count": 11,
   "id": "efd4c3fb-b891-479e-b1cd-fa06486a471e",
   "metadata": {},
   "outputs": [
    {
     "name": "stdout",
     "output_type": "stream",
     "text": [
      "finalspd-sens (mc)\n",
      "└── spd_final (ev)\n",
      "    ├── a\n",
      "    ├── v0\n",
      "    └── x\n",
      "\n",
      "finalspd-sens: 29.04 m/s (nom), 21.72 m/s (lb), 42.17 m/s (ub)\n"
     ]
    }
   ],
   "source": [
    "finalspd_sens = spd_total.ss(spd_final, tag=\"finalspd-sens\")\n",
    "print(finalspd_sens)\n",
    "print(finalspd_sens())"
   ]
  },
  {
   "cell_type": "code",
   "execution_count": 12,
   "id": "01fe0b98-73c1-4bb2-92ad-520ecc4106d0",
   "metadata": {},
   "outputs": [
    {
     "name": "stdout",
     "output_type": "stream",
     "text": [
      "relspd-sens (mc)\n",
      "└── vrel\n",
      "\n",
      "relspd-sens: 29.04 m/s (nom), 28.59 m/s (lb), 29.49 m/s (ub)\n"
     ]
    }
   ],
   "source": [
    "relspd_sens = spd_total.ss(spd_rel, tag=\"relspd-sens\")\n",
    "print(relspd_sens)\n",
    "print(relspd_sens())"
   ]
  },
  {
   "cell_type": "code",
   "execution_count": 13,
   "id": "42f9c94f-7852-4d0d-93ca-8d1884d68d6e",
   "metadata": {},
   "outputs": [],
   "source": [
    "assert spd_total.check(\"[length]/[time]\")\n",
    "# also try: spd_total.dimensionality"
   ]
  },
  {
   "cell_type": "code",
   "execution_count": 14,
   "id": "3efff7b2-ad8d-4291-ba2c-c29d948d1e6a",
   "metadata": {},
   "outputs": [
    {
     "name": "stdout",
     "output_type": "stream",
     "text": [
      "meter / second\n"
     ]
    }
   ],
   "source": [
    "print(spd_total.units)\n",
    "# also try: spd_total.u"
   ]
  },
  {
   "cell_type": "code",
   "execution_count": 15,
   "id": "6a52faf9-ec0e-4a4e-b360-d33b29bc132a",
   "metadata": {},
   "outputs": [
    {
     "name": "stdout",
     "output_type": "stream",
     "text": [
      "spd_total: 104.5 km/hr (nom), 76.93 km/hr (lb), 153.1 km/hr (ub)\n"
     ]
    }
   ],
   "source": [
    "print(spd_total().ito(wca.unit(\"km/hr\")))\n",
    "# also try: spd_total().ito_base_units()\n",
    "#           spd_total().ito_reduced_units()\n",
    "#           spd_total().ito_root_units()"
   ]
  }
 ],
 "metadata": {
  "kernelspec": {
   "display_name": "Python 3",
   "language": "python",
   "name": "python3"
  },
  "language_info": {
   "codemirror_mode": {
    "name": "ipython",
    "version": 3
   },
   "file_extension": ".py",
   "mimetype": "text/x-python",
   "name": "python",
   "nbconvert_exporter": "python",
   "pygments_lexer": "ipython3",
   "version": "3.9.4"
  }
 },
 "nbformat": 4,
 "nbformat_minor": 5
}
