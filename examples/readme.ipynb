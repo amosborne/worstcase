{
 "cells": [
  {
   "cell_type": "code",
   "execution_count": 1,
   "id": "93c1398a-5c4a-4d5d-8fd1-19650a277a05",
   "metadata": {},
   "outputs": [],
   "source": [
    "%reload_ext lab_black"
   ]
  },
  {
   "cell_type": "code",
   "execution_count": 2,
   "id": "regulated-baseball",
   "metadata": {},
   "outputs": [],
   "source": [
    "import worstcase as wca\n",
    "import numpy as np\n",
    "from pprint import pprint\n",
    "\n",
    "wca.config.n = 2000  # Number of Monte Carlo runs. (default: 5000)\n",
    "wca.config.sigfig = 4  # Number of significant firues to print. (default: 3)"
   ]
  },
  {
   "cell_type": "code",
   "execution_count": 3,
   "id": "af17faab-4ebf-4b5f-9f42-a6df621f71e2",
   "metadata": {},
   "outputs": [
    {
     "name": "stdout",
     "output_type": "stream",
     "text": [
      "[v0: 2 m/s (nom), 1.8 m/s (lb), 2.2 m/s (ub),\n",
      " a: 200 mm/s² (nom), 100 mm/s² (lb), 500 mm/s² (ub),\n",
      " x: 1 km (nom), 800 m (lb), 1.1 km (ub)]\n"
     ]
    }
   ],
   "source": [
    "spd_initial = wca.param.bytol(nom=2, tol=0.1, rel=True, unit=wca.unit(\"m/s\"), tag=\"v0\")\n",
    "accel = wca.param.byrange(nom=0.2, lb=0.1, ub=0.5, unit=wca.unit(\"m/s**2\"), tag=\"a\")\n",
    "distance = wca.param.byrange(nom=1, lb=0.8, ub=1.1, unit=wca.unit.km, tag=\"x\")\n",
    "\n",
    "pprint([spd_initial, accel, distance])"
   ]
  },
  {
   "cell_type": "code",
   "execution_count": 4,
   "id": "4015818b-ffc6-43a3-a777-414fe5ab7d1f",
   "metadata": {},
   "outputs": [
    {
     "name": "stdout",
     "output_type": "stream",
     "text": [
      "spd_final (ev)\n",
      "├── a\n",
      "├── v0\n",
      "└── x\n",
      "\n"
     ]
    }
   ],
   "source": [
    "@wca.param.ev(spd_initial, accel, distance)\n",
    "def spd_final(v, a, x):\n",
    "    return np.sqrt(v ** 2 + 2 * a * x)\n",
    "\n",
    "\n",
    "print(spd_final)"
   ]
  },
  {
   "cell_type": "code",
   "execution_count": 5,
   "id": "625e95d8-64c6-4860-a150-327f6d2fd6c3",
   "metadata": {},
   "outputs": [
    {
     "name": "stdout",
     "output_type": "stream",
     "text": [
      "spd_final: 20.1 m/s (nom), 12.78 m/s (lb), 33.24 m/s (ub)\n"
     ]
    }
   ],
   "source": [
    "print(spd_final())"
   ]
  },
  {
   "cell_type": "code",
   "execution_count": 6,
   "id": "11bba404-7ca3-48c2-92d2-93c0109628ef",
   "metadata": {},
   "outputs": [
    {
     "name": "stdout",
     "output_type": "stream",
     "text": [
      "spd_noaccel (ev)\n",
      "├── v0\n",
      "└── x\n",
      "\n"
     ]
    }
   ],
   "source": [
    "spd_final_noaccel = spd_final(a=0 * wca.unit(\"m/s**2\"), tag=\"spd_noaccel\")\n",
    "print(spd_final_noaccel)"
   ]
  },
  {
   "cell_type": "code",
   "execution_count": 7,
   "id": "f028cdb8-9695-4afa-b7a9-b06ccc55a975",
   "metadata": {},
   "outputs": [
    {
     "name": "stdout",
     "output_type": "stream",
     "text": [
      "3.0 meter / second\n"
     ]
    }
   ],
   "source": [
    "result = spd_final_noaccel(3 * wca.unit(\"m/s\"), x=10 * wca.unit.m)\n",
    "print(result)"
   ]
  },
  {
   "cell_type": "code",
   "execution_count": 8,
   "id": "59930254-2107-4223-bd41-fc9fc37758ca",
   "metadata": {},
   "outputs": [
    {
     "name": "stdout",
     "output_type": "stream",
     "text": [
      "spd_total (mc)\n",
      "├── spd_final (ev)\n",
      "│   ├── a\n",
      "│   ├── v0\n",
      "│   └── x\n",
      "└── vrel\n",
      "\n",
      "spd_total: 29.04 m/s (nom), 21.46 m/s (lb), 42.57 m/s (ub)\n"
     ]
    }
   ],
   "source": [
    "spd_rel = wca.param.bytol(nom=20, tol=1, rel=False, unit=wca.unit(\"mi/hr\"), tag=\"vrel\")\n",
    "\n",
    "\n",
    "@wca.param.mc(spd_final, spd_rel)\n",
    "def spd_total(vf, vr):\n",
    "    return vf + vr\n",
    "\n",
    "\n",
    "print(spd_total)\n",
    "print(spd_total())"
   ]
  },
  {
   "cell_type": "code",
   "execution_count": 9,
   "id": "88797123-e368-4794-a20c-6326d5d5baa3",
   "metadata": {},
   "outputs": [
    {
     "name": "stdout",
     "output_type": "stream",
     "text": [
      "accel-sens (mc)\n",
      "└── spd_final (ev)\n",
      "    └── a\n",
      "\n",
      "accel-sens: 29.04 m/s (nom), 23.23 m/s (lb), 40.62 m/s (ub)\n"
     ]
    }
   ],
   "source": [
    "accel_sens = spd_total.ss(accel, tag=\"accel-sens\")\n",
    "print(accel_sens)\n",
    "print(accel_sens())"
   ]
  },
  {
   "cell_type": "code",
   "execution_count": 10,
   "id": "da821430-6fa3-49de-939c-2855ff7e4aa9",
   "metadata": {},
   "outputs": [
    {
     "name": "stdout",
     "output_type": "stream",
     "text": [
      "accel/distance-sens (mc)\n",
      "└── spd_final (ev)\n",
      "    ├── a\n",
      "    └── x\n",
      "\n",
      "accel/distance-sens: 29.04 m/s (nom), 21.75 m/s (lb), 42.16 m/s (ub)\n"
     ]
    }
   ],
   "source": [
    "accel_distance_sens = spd_total.ss([accel, distance], tag=\"accel/distance-sens\")\n",
    "print(accel_distance_sens)\n",
    "print(accel_distance_sens())"
   ]
  },
  {
   "cell_type": "code",
   "execution_count": 11,
   "id": "efd4c3fb-b891-479e-b1cd-fa06486a471e",
   "metadata": {},
   "outputs": [
    {
     "name": "stdout",
     "output_type": "stream",
     "text": [
      "finalspd-sens (mc)\n",
      "└── spd_final (ev)\n",
      "    ├── a\n",
      "    ├── v0\n",
      "    └── x\n",
      "\n",
      "finalspd-sens: 29.04 m/s (nom), 21.72 m/s (lb), 42.18 m/s (ub)\n"
     ]
    }
   ],
   "source": [
    "finalspd_sens = spd_total.ss(spd_final, tag=\"finalspd-sens\")\n",
    "print(finalspd_sens)\n",
    "print(finalspd_sens())"
   ]
  },
  {
   "cell_type": "code",
   "execution_count": 12,
   "id": "01fe0b98-73c1-4bb2-92ad-520ecc4106d0",
   "metadata": {},
   "outputs": [
    {
     "name": "stdout",
     "output_type": "stream",
     "text": [
      "relspd-sens (mc)\n",
      "└── vrel\n",
      "\n",
      "relspd-sens: 29.04 m/s (nom), 28.59 m/s (lb), 29.49 m/s (ub)\n"
     ]
    }
   ],
   "source": [
    "relspd_sens = spd_total.ss(spd_rel, tag=\"relspd-sens\")\n",
    "print(relspd_sens)\n",
    "print(relspd_sens())"
   ]
  }
 ],
 "metadata": {
  "kernelspec": {
   "display_name": "Python 3",
   "language": "python",
   "name": "python3"
  },
  "language_info": {
   "codemirror_mode": {
    "name": "ipython",
    "version": 3
   },
   "file_extension": ".py",
   "mimetype": "text/x-python",
   "name": "python",
   "nbconvert_exporter": "python",
   "pygments_lexer": "ipython3",
   "version": "3.9.4"
  }
 },
 "nbformat": 4,
 "nbformat_minor": 5
}
