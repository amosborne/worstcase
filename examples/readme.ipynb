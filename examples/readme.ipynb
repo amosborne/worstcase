{
 "cells": [
  {
   "cell_type": "markdown",
   "id": "9183e453-90d1-48b2-9df9-0a0f1f9e1023",
   "metadata": {},
   "source": [
    "# README\n",
    "\n",
    "Parameters may be defined either by range or by tolerance (absolute or relative). Units from [Pint](https://pint.readthedocs.io/en/stable/) are supported. A default `Pint.UnitRegistry()` is provided to the user as `worstcase.unit`.\n",
    "* `worstcase.param.byrange(nom, lb, ub, tag=\"\")`\n",
    "* `worstcase.param.bytol(nom, tol, rel, tag=\"\")`\n",
    "\n",
    "Both Extreme Value and Monte Carlo analyses are supported, even in the same calculation. The underlying computation is performed on the directed graph of `Parameters`, `Derivatives`, and the single-valued functions between them. This directed graph must be an acyclic computation. Extreme Value Analysis is performed by brute force, so Monte Carlo Analysis will be faster if the directed graph couples many parameters together. When `Derivatives` are coupled together, the analysis method of one `Derivative` may be overruled by one of its descendants.\n",
    "* `derive.byev(*args, tag=\"\", **kwargs)(func)`\n",
    "* `derive.bymc(*args, tag=\"\", **kwargs)(func)`"
   ]
  },
  {
   "cell_type": "code",
   "execution_count": 16,
   "id": "93c1398a-5c4a-4d5d-8fd1-19650a277a05",
   "metadata": {},
   "outputs": [],
   "source": [
    "%reload_ext lab_black\n",
    "from pprint import pprint\n",
    "from worstcase import config, param, derive, unit"
   ]
  },
  {
   "cell_type": "markdown",
   "id": "4bf52957-f42a-4591-ab61-fc11f420c047",
   "metadata": {},
   "source": [
    "## Example 1: Voltage Dividers and an Amplifier"
   ]
  },
  {
   "cell_type": "code",
   "execution_count": 2,
   "id": "77e0359c-c735-4764-b9a8-1641d96d1da6",
   "metadata": {},
   "outputs": [],
   "source": [
    "config.n = 2000  # Number of Monte Carlo runs. (default: 5000)\n",
    "config.sigfig = 5  # Number of significant figures to print. (default: 4)"
   ]
  },
  {
   "cell_type": "code",
   "execution_count": 20,
   "id": "27546525-e623-4bd8-bc2d-0a7723b9092c",
   "metadata": {},
   "outputs": [
    {
     "name": "stdout",
     "output_type": "stream",
     "text": [
      "[vcc: 5 V (nom), 4.8 V (lb), 5.1 V (ub),\n",
      " vin: 12 V (nom), 11.9 V (lb), 12.05 V (ub),\n",
      " gain: 1.1 (nom), 1 (lb), 1.2 (ub),\n",
      " r1: 10 kΩ (nom), 9 kΩ (lb), 11 kΩ (ub),\n",
      " r2: 10 kΩ (nom), 9 kΩ (lb), 11 kΩ (ub),\n",
      " r3: 50 kΩ (nom), 47.5 kΩ (lb), 52.5 kΩ (ub),\n",
      " r4: 20 kΩ (nom), 19 kΩ (lb), 21 kΩ (ub),\n",
      " r5: 10 kΩ (nom), 9.9 kΩ (lb), 10.1 kΩ (ub),\n",
      " r6: 10 kΩ (nom), 9.9 kΩ (lb), 10.1 kΩ (ub)]\n"
     ]
    }
   ],
   "source": [
    "# Define the parameters of interest. See the diagram above.\n",
    "VCC = param.byrange(nom=5 * unit.V, lb=4.8 * unit.V, ub=5.1 * unit.V, tag=\"vcc\")\n",
    "R1 = param.bytol(nom=10 * unit.kohm, tol=0.10, rel=True, tag=\"r1\")\n",
    "R2 = param.bytol(nom=10 * unit.kohm, tol=0.10, rel=True, tag=\"r2\")\n",
    "\n",
    "VIN = param.byrange(nom=12 * unit.V, lb=11.9 * unit.V, ub=12.05 * unit.V, tag=\"vin\")\n",
    "R3 = param.bytol(nom=50 * unit.kohm, tol=0.05, rel=True, tag=\"r3\")\n",
    "R4 = param.bytol(nom=20 * unit.kohm, tol=0.05, rel=True, tag=\"r4\")\n",
    "\n",
    "GAIN = param.bytol(nom=1.1, tol=0.1, rel=False, tag=\"gain\")\n",
    "R5 = param.bytol(nom=10 * unit.kohm, tol=0.01, rel=True, tag=\"r5\")\n",
    "R6 = param.bytol(nom=10 * unit.kohm, tol=0.01, rel=True, tag=\"r6\")\n",
    "\n",
    "pprint([VCC, VIN, GAIN, R1, R2, R3, R4, R5, R6])"
   ]
  },
  {
   "cell_type": "code",
   "execution_count": 21,
   "id": "d7d5cc3a-9db0-4cb4-86aa-045da57cbefa",
   "metadata": {},
   "outputs": [],
   "source": [
    "# Define a generic voltage divider function.\n",
    "def voltage_divider(vtop, vbot, rtop, rbot):\n",
    "    return vbot + rbot * (vtop - vbot) / (rtop + rbot)"
   ]
  },
  {
   "cell_type": "code",
   "execution_count": 22,
   "id": "683379f5-014e-4f54-bd3e-ff9d48e42483",
   "metadata": {},
   "outputs": [
    {
     "name": "stdout",
     "output_type": "stream",
     "text": [
      "[vneg: 2.5 V (nom), 2.16 V (lb), 2.805 V (ub),\n",
      " vpos: 3.4286 V (nom), 3.1622 V (lb), 3.6942 V (ub)]\n"
     ]
    }
   ],
   "source": [
    "# Define input voltage divider derived parameters.\n",
    "VNEG = derive.byev(vtop=VCC, vbot=0, rtop=R1, rbot=R2, tag=\"vneg\")(voltage_divider)\n",
    "VPOS = derive.byev(vtop=VIN, vbot=0, rtop=R3, rbot=R4, tag=\"vpos\")(voltage_divider)\n",
    "\n",
    "pprint([VNEG, VPOS])"
   ]
  },
  {
   "cell_type": "code",
   "execution_count": 23,
   "id": "9930dd94-ab22-46df-a523-82f4b7c43b0c",
   "metadata": {},
   "outputs": [
    {
     "name": "stdout",
     "output_type": "stream",
     "text": [
      "amp: 1.0214 V (nom), 357.24 mV (lb), 1.841 V (ub)\n"
     ]
    }
   ],
   "source": [
    "# Define the amplifier output derived parameter.\n",
    "@derive.byev(vp=VPOS, vm=VNEG, gain=GAIN, tag=\"amp\")\n",
    "def AMP(vp, vm, gain):\n",
    "    return gain * (vp - vm)\n",
    "\n",
    "\n",
    "print(AMP)"
   ]
  },
  {
   "cell_type": "code",
   "execution_count": 24,
   "id": "bc0024b6-2f03-4c93-bd45-89eddced96ce",
   "metadata": {},
   "outputs": [
    {
     "name": "stdout",
     "output_type": "stream",
     "text": [
      "vout: 3.0107 V (nom), 2.6397 V (lb), 3.4066 V (ub)\n"
     ]
    }
   ],
   "source": [
    "# Define the output voltage divider derived parameter.\n",
    "VOUT = derive.byev(vtop=VCC, vbot=AMP, rtop=R5, rbot=R6, tag=\"vout\")(voltage_divider)\n",
    "\n",
    "print(VOUT)"
   ]
  },
  {
   "cell_type": "code",
   "execution_count": 25,
   "id": "91ac0310-d8cd-4381-b185-9d7a73edc2e6",
   "metadata": {},
   "outputs": [],
   "source": [
    "# Confirm with manual calculation.\n",
    "\n",
    "vneg_min = VCC.lb * R2.lb / (R1.ub + R2.lb)\n",
    "assert vneg_min == VNEG.lb\n",
    "\n",
    "vpos_max = VIN.ub * R4.ub / (R3.lb + R4.ub)\n",
    "assert vpos_max == VPOS.ub\n",
    "\n",
    "amp_max = GAIN.ub * (vpos_max - vneg_min)\n",
    "assert amp_max == AMP.ub\n",
    "\n",
    "vneg = VCC.ub * R2.lb / (R1.ub + R2.lb)\n",
    "amp = GAIN.ub * (vpos_max - vneg)\n",
    "vout_max = amp + (VCC.ub - amp) * R6.ub / (R5.lb + R6.ub)\n",
    "assert vout_max == VOUT.ub"
   ]
  },
  {
   "cell_type": "markdown",
   "id": "f58f8f73-654b-4c93-b463-ed908ed29636",
   "metadata": {},
   "source": [
    "## Unit Conversion Support"
   ]
  },
  {
   "cell_type": "code",
   "execution_count": 15,
   "id": "f88907ac-d40f-4a3b-a3f5-7dbc1c5898f7",
   "metadata": {},
   "outputs": [],
   "source": [
    "# worstcase.unit is a default Pint.UnitRegistry()."
   ]
  },
  {
   "cell_type": "code",
   "execution_count": null,
   "id": "cc5abc73-4bee-42eb-885a-748bf3ecd4d9",
   "metadata": {},
   "outputs": [],
   "source": [
    "speed = param.bytol"
   ]
  },
  {
   "cell_type": "code",
   "execution_count": null,
   "id": "b1f4e5d9-586f-44f4-82ac-a94e03dd5de3",
   "metadata": {},
   "outputs": [],
   "source": []
  },
  {
   "cell_type": "code",
   "execution_count": 2,
   "id": "regulated-baseball",
   "metadata": {},
   "outputs": [],
   "source": [
    "import worstcase as wca\n",
    "import numpy as np\n",
    "from pprint import pprint\n",
    "\n",
    "wca.config.n = 2000  # Number of Monte Carlo runs. (default: 5000)\n",
    "wca.config.sigfig = 4  # Number of significant firues to print. (default: 3)"
   ]
  },
  {
   "cell_type": "code",
   "execution_count": 3,
   "id": "af17faab-4ebf-4b5f-9f42-a6df621f71e2",
   "metadata": {},
   "outputs": [
    {
     "name": "stdout",
     "output_type": "stream",
     "text": [
      "[v0: 2 m/s (nom), 1.8 m/s (lb), 2.2 m/s (ub),\n",
      " a: 200 mm/s² (nom), 100 mm/s² (lb), 500 mm/s² (ub),\n",
      " x: 1 km (nom), 800 m (lb), 1.1 km (ub)]\n"
     ]
    }
   ],
   "source": [
    "spd_initial = wca.param.bytol(nom=2, tol=0.1, rel=True, unit=wca.unit(\"m/s\"), tag=\"v0\")\n",
    "accel = wca.param.byrange(nom=0.2, lb=0.1, ub=0.5, unit=wca.unit(\"m/s**2\"), tag=\"a\")\n",
    "distance = wca.param.byrange(nom=1, lb=0.8, ub=1.1, unit=wca.unit.km, tag=\"x\")\n",
    "\n",
    "pprint([spd_initial, accel, distance])"
   ]
  },
  {
   "cell_type": "code",
   "execution_count": 4,
   "id": "4015818b-ffc6-43a3-a777-414fe5ab7d1f",
   "metadata": {},
   "outputs": [
    {
     "name": "stdout",
     "output_type": "stream",
     "text": [
      "spd_final (ev)\n",
      "├── a\n",
      "├── v0\n",
      "└── x\n",
      "\n"
     ]
    }
   ],
   "source": [
    "@wca.param.ev(spd_initial, accel, distance)\n",
    "def spd_final(v, a, x):\n",
    "    return np.sqrt(v ** 2 + 2 * a * x)\n",
    "\n",
    "\n",
    "print(spd_final)"
   ]
  },
  {
   "cell_type": "code",
   "execution_count": 5,
   "id": "625e95d8-64c6-4860-a150-327f6d2fd6c3",
   "metadata": {},
   "outputs": [
    {
     "name": "stdout",
     "output_type": "stream",
     "text": [
      "spd_final: 20.1 m/s (nom), 12.78 m/s (lb), 33.24 m/s (ub)\n"
     ]
    }
   ],
   "source": [
    "print(spd_final())"
   ]
  },
  {
   "cell_type": "code",
   "execution_count": 6,
   "id": "11bba404-7ca3-48c2-92d2-93c0109628ef",
   "metadata": {},
   "outputs": [
    {
     "name": "stdout",
     "output_type": "stream",
     "text": [
      "spd_noaccel (ev)\n",
      "├── v0\n",
      "└── x\n",
      "\n"
     ]
    }
   ],
   "source": [
    "spd_final_noaccel = spd_final(a=0 * wca.unit(\"m/s**2\"), tag=\"spd_noaccel\")\n",
    "print(spd_final_noaccel)"
   ]
  },
  {
   "cell_type": "code",
   "execution_count": 7,
   "id": "f028cdb8-9695-4afa-b7a9-b06ccc55a975",
   "metadata": {},
   "outputs": [
    {
     "name": "stdout",
     "output_type": "stream",
     "text": [
      "3.0 meter / second\n"
     ]
    }
   ],
   "source": [
    "result = spd_final_noaccel(3 * wca.unit(\"m/s\"), x=10 * wca.unit.m)\n",
    "print(result)"
   ]
  },
  {
   "cell_type": "code",
   "execution_count": 8,
   "id": "59930254-2107-4223-bd41-fc9fc37758ca",
   "metadata": {},
   "outputs": [
    {
     "name": "stdout",
     "output_type": "stream",
     "text": [
      "spd_total (mc)\n",
      "├── spd_final (ev)\n",
      "│   ├── a\n",
      "│   ├── v0\n",
      "│   └── x\n",
      "└── vrel\n",
      "\n",
      "spd_total: 29.04 m/s (nom), 21.41 m/s (lb), 42.57 m/s (ub)\n"
     ]
    }
   ],
   "source": [
    "spd_rel = wca.param.bytol(nom=20, tol=1, rel=False, unit=wca.unit(\"mi/hr\"), tag=\"vrel\")\n",
    "\n",
    "\n",
    "@wca.param.mc(spd_final, spd_rel)\n",
    "def spd_total(vf, vr):\n",
    "    return vf + vr\n",
    "\n",
    "\n",
    "print(spd_total)\n",
    "print(spd_total())"
   ]
  },
  {
   "cell_type": "code",
   "execution_count": 9,
   "id": "88797123-e368-4794-a20c-6326d5d5baa3",
   "metadata": {},
   "outputs": [
    {
     "name": "stdout",
     "output_type": "stream",
     "text": [
      "accel-sens (mc)\n",
      "└── spd_final (ev)\n",
      "    └── a\n",
      "\n",
      "accel-sens: 29.04 m/s (nom), 23.23 m/s (lb), 40.62 m/s (ub)\n"
     ]
    }
   ],
   "source": [
    "accel_sens = spd_total.ss(accel, tag=\"accel-sens\")\n",
    "print(accel_sens)\n",
    "print(accel_sens())"
   ]
  },
  {
   "cell_type": "code",
   "execution_count": 10,
   "id": "da821430-6fa3-49de-939c-2855ff7e4aa9",
   "metadata": {},
   "outputs": [
    {
     "name": "stdout",
     "output_type": "stream",
     "text": [
      "accel/distance-sens (mc)\n",
      "└── spd_final (ev)\n",
      "    ├── a\n",
      "    └── x\n",
      "\n",
      "accel/distance-sens: 29.04 m/s (nom), 21.75 m/s (lb), 42.16 m/s (ub)\n"
     ]
    }
   ],
   "source": [
    "accel_distance_sens = spd_total.ss([accel, distance], tag=\"accel/distance-sens\")\n",
    "print(accel_distance_sens)\n",
    "print(accel_distance_sens())"
   ]
  },
  {
   "cell_type": "code",
   "execution_count": 11,
   "id": "efd4c3fb-b891-479e-b1cd-fa06486a471e",
   "metadata": {},
   "outputs": [
    {
     "name": "stdout",
     "output_type": "stream",
     "text": [
      "finalspd-sens (mc)\n",
      "└── spd_final (ev)\n",
      "    ├── a\n",
      "    ├── v0\n",
      "    └── x\n",
      "\n",
      "finalspd-sens: 29.04 m/s (nom), 21.72 m/s (lb), 42.17 m/s (ub)\n"
     ]
    }
   ],
   "source": [
    "finalspd_sens = spd_total.ss(spd_final, tag=\"finalspd-sens\")\n",
    "print(finalspd_sens)\n",
    "print(finalspd_sens())"
   ]
  },
  {
   "cell_type": "code",
   "execution_count": 12,
   "id": "01fe0b98-73c1-4bb2-92ad-520ecc4106d0",
   "metadata": {},
   "outputs": [
    {
     "name": "stdout",
     "output_type": "stream",
     "text": [
      "relspd-sens (mc)\n",
      "└── vrel\n",
      "\n",
      "relspd-sens: 29.04 m/s (nom), 28.59 m/s (lb), 29.49 m/s (ub)\n"
     ]
    }
   ],
   "source": [
    "relspd_sens = spd_total.ss(spd_rel, tag=\"relspd-sens\")\n",
    "print(relspd_sens)\n",
    "print(relspd_sens())"
   ]
  },
  {
   "cell_type": "code",
   "execution_count": 13,
   "id": "42f9c94f-7852-4d0d-93ca-8d1884d68d6e",
   "metadata": {},
   "outputs": [],
   "source": [
    "assert spd_total.check(\"[length]/[time]\")\n",
    "# also try: spd_total.dimensionality"
   ]
  },
  {
   "cell_type": "code",
   "execution_count": 14,
   "id": "3efff7b2-ad8d-4291-ba2c-c29d948d1e6a",
   "metadata": {},
   "outputs": [
    {
     "name": "stdout",
     "output_type": "stream",
     "text": [
      "meter / second\n"
     ]
    }
   ],
   "source": [
    "print(spd_total.units)\n",
    "# also try: spd_total.u"
   ]
  },
  {
   "cell_type": "code",
   "execution_count": 15,
   "id": "6a52faf9-ec0e-4a4e-b360-d33b29bc132a",
   "metadata": {},
   "outputs": [
    {
     "name": "stdout",
     "output_type": "stream",
     "text": [
      "spd_total: 104.5 km/hr (nom), 76.93 km/hr (lb), 153.1 km/hr (ub)\n"
     ]
    }
   ],
   "source": [
    "print(spd_total().ito(wca.unit(\"km/hr\")))\n",
    "# also try: spd_total().ito_base_units()\n",
    "#           spd_total().ito_reduced_units()\n",
    "#           spd_total().ito_root_units()"
   ]
  }
 ],
 "metadata": {
  "kernelspec": {
   "display_name": "Python 3",
   "language": "python",
   "name": "python3"
  },
  "language_info": {
   "codemirror_mode": {
    "name": "ipython",
    "version": 3
   },
   "file_extension": ".py",
   "mimetype": "text/x-python",
   "name": "python",
   "nbconvert_exporter": "python",
   "pygments_lexer": "ipython3",
   "version": "3.9.4"
  }
 },
 "nbformat": 4,
 "nbformat_minor": 5
}
