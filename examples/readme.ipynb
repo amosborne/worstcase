{
 "cells": [
  {
   "cell_type": "markdown",
   "id": "9183e453-90d1-48b2-9df9-0a0f1f9e1023",
   "metadata": {},
   "source": [
    "# README\n",
    "\n",
    "Parameters may be defined either by range or by tolerance (absolute or relative). Units from [Pint](https://pint.readthedocs.io/en/stable/) are supported. A default `Pint.UnitRegistry()` is provided to the user as `worstcase.unit`.\n",
    "* `worstcase.param.byrange(nom, lb, ub, tag=\"\")`\n",
    "* `worstcase.param.bytol(nom, tol, rel, tag=\"\")`\n",
    "\n",
    "Both Extreme Value and Monte Carlo analyses are supported, even in the same calculation. The underlying computation is performed on the directed graph of `Parameters`, `Derivatives`, and the single-valued functions between them. This directed graph must be an acyclic computation. Extreme Value Analysis is performed by brute force, so Monte Carlo Analysis will be faster if the directed graph couples many parameters together. When `Derivatives` are coupled together, the analysis method of one `Derivative` may be overruled by one of its descendants.\n",
    "* `derive.byev(*args, tag=\"\", **kwargs)(func)`\n",
    "* `derive.bymc(*args, tag=\"\", **kwargs)(func)`"
   ]
  },
  {
   "cell_type": "code",
   "execution_count": 1,
   "id": "93c1398a-5c4a-4d5d-8fd1-19650a277a05",
   "metadata": {},
   "outputs": [],
   "source": [
    "%reload_ext lab_black\n",
    "from pprint import pprint\n",
    "from worstcase import config, param, derive, unit"
   ]
  },
  {
   "cell_type": "markdown",
   "id": "4bf52957-f42a-4591-ab61-fc11f420c047",
   "metadata": {},
   "source": [
    "## Example 1: Voltage Dividers and an Amplifier\n",
    "\n",
    "As a contrived example, we will calculate the worst-case voltage variations by extreme value analysis at the amplifier input terminals, the amplifier output terminal, and at the final output.\n",
    "\n",
    "<img src=\"voltage_dividers_and_amplifier.png\">"
   ]
  },
  {
   "cell_type": "code",
   "execution_count": 2,
   "id": "77e0359c-c735-4764-b9a8-1641d96d1da6",
   "metadata": {},
   "outputs": [],
   "source": [
    "config.n = 2000  # Number of Monte Carlo runs. (default: 5000)\n",
    "config.sigfig = 5  # Number of significant figures to print. (default: 4)"
   ]
  },
  {
   "cell_type": "code",
   "execution_count": 3,
   "id": "27546525-e623-4bd8-bc2d-0a7723b9092c",
   "metadata": {},
   "outputs": [
    {
     "name": "stdout",
     "output_type": "stream",
     "text": [
      "[vcc: 5 V (nom), 4.8 V (lb), 5.1 V (ub),\n",
      " vin: 12 V (nom), 11.9 V (lb), 12.05 V (ub),\n",
      " gain: 1.1 (nom), 1 (lb), 1.2 (ub),\n",
      " r1: 10 kΩ (nom), 9 kΩ (lb), 11 kΩ (ub),\n",
      " r2: 10 kΩ (nom), 9 kΩ (lb), 11 kΩ (ub),\n",
      " r3: 50 kΩ (nom), 47.5 kΩ (lb), 52.5 kΩ (ub),\n",
      " r4: 20 kΩ (nom), 19 kΩ (lb), 21 kΩ (ub),\n",
      " r5: 10 kΩ (nom), 9.9 kΩ (lb), 10.1 kΩ (ub),\n",
      " r6: 10 kΩ (nom), 9.9 kΩ (lb), 10.1 kΩ (ub)]\n"
     ]
    }
   ],
   "source": [
    "# Define the parameters of interest. See the diagram above.\n",
    "VCC = param.byrange(nom=5 * unit.V, lb=4.8 * unit.V, ub=5.1 * unit.V, tag=\"vcc\")\n",
    "R1 = param.bytol(nom=10 * unit.kohm, tol=0.10, rel=True, tag=\"r1\")\n",
    "R2 = param.bytol(nom=10 * unit.kohm, tol=0.10, rel=True, tag=\"r2\")\n",
    "\n",
    "VIN = param.byrange(nom=12 * unit.V, lb=11.9 * unit.V, ub=12.05 * unit.V, tag=\"vin\")\n",
    "R3 = param.bytol(nom=50 * unit.kohm, tol=0.05, rel=True, tag=\"r3\")\n",
    "R4 = param.bytol(nom=20 * unit.kohm, tol=0.05, rel=True, tag=\"r4\")\n",
    "\n",
    "GAIN = param.bytol(nom=1.1, tol=0.1, rel=False, tag=\"gain\")\n",
    "R5 = param.bytol(nom=10 * unit.kohm, tol=0.01, rel=True, tag=\"r5\")\n",
    "R6 = param.bytol(nom=10 * unit.kohm, tol=0.01, rel=True, tag=\"r6\")\n",
    "\n",
    "pprint([VCC, VIN, GAIN, R1, R2, R3, R4, R5, R6])"
   ]
  },
  {
   "cell_type": "code",
   "execution_count": 4,
   "id": "d7d5cc3a-9db0-4cb4-86aa-045da57cbefa",
   "metadata": {},
   "outputs": [],
   "source": [
    "# Define a generic voltage divider function.\n",
    "def voltage_divider(vtop, vbot, rtop, rbot):\n",
    "    return vbot + rbot * (vtop - vbot) / (rtop + rbot)"
   ]
  },
  {
   "cell_type": "code",
   "execution_count": 5,
   "id": "683379f5-014e-4f54-bd3e-ff9d48e42483",
   "metadata": {},
   "outputs": [
    {
     "name": "stdout",
     "output_type": "stream",
     "text": [
      "[vneg: 2.5 V (nom), 2.16 V (lb), 2.805 V (ub),\n",
      " vpos: 3.4286 V (nom), 3.1622 V (lb), 3.6942 V (ub)]\n"
     ]
    }
   ],
   "source": [
    "# Define input voltage divider derived parameters.\n",
    "VNEG = derive.byev(vtop=VCC, vbot=0, rtop=R1, rbot=R2, tag=\"vneg\")(voltage_divider)\n",
    "VPOS = derive.byev(vtop=VIN, vbot=0, rtop=R3, rbot=R4, tag=\"vpos\")(voltage_divider)\n",
    "\n",
    "pprint([VNEG, VPOS])"
   ]
  },
  {
   "cell_type": "code",
   "execution_count": 6,
   "id": "9930dd94-ab22-46df-a523-82f4b7c43b0c",
   "metadata": {},
   "outputs": [
    {
     "name": "stdout",
     "output_type": "stream",
     "text": [
      "amp: 1.0214 V (nom), 357.24 mV (lb), 1.841 V (ub)\n"
     ]
    }
   ],
   "source": [
    "# Define the amplifier output derived parameter.\n",
    "@derive.byev(vp=VPOS, vm=VNEG, gain=GAIN, tag=\"amp\")\n",
    "def AMP(vp, vm, gain):\n",
    "    return gain * (vp - vm)\n",
    "\n",
    "\n",
    "print(AMP)"
   ]
  },
  {
   "cell_type": "code",
   "execution_count": 7,
   "id": "bc0024b6-2f03-4c93-bd45-89eddced96ce",
   "metadata": {},
   "outputs": [
    {
     "name": "stdout",
     "output_type": "stream",
     "text": [
      "vout: 3.0107 V (nom), 2.6397 V (lb), 3.4066 V (ub)\n"
     ]
    }
   ],
   "source": [
    "# Define the output voltage divider derived parameter.\n",
    "VOUT = derive.byev(vtop=VCC, vbot=AMP, rtop=R5, rbot=R6, tag=\"vout\")(voltage_divider)\n",
    "\n",
    "print(VOUT)"
   ]
  },
  {
   "cell_type": "code",
   "execution_count": 8,
   "id": "91ac0310-d8cd-4381-b185-9d7a73edc2e6",
   "metadata": {},
   "outputs": [],
   "source": [
    "# Confirm with manual calculation.\n",
    "\n",
    "vneg_min = VCC.lb * R2.lb / (R1.ub + R2.lb)\n",
    "assert vneg_min == VNEG.lb\n",
    "\n",
    "vpos_max = VIN.ub * R4.ub / (R3.lb + R4.ub)\n",
    "assert vpos_max == VPOS.ub\n",
    "\n",
    "amp_max = GAIN.ub * (vpos_max - vneg_min)\n",
    "assert amp_max == AMP.ub\n",
    "\n",
    "vneg = VCC.ub * R2.lb / (R1.ub + R2.lb)\n",
    "amp = GAIN.ub * (vpos_max - vneg)\n",
    "vout_max = amp + (VCC.ub - amp) * R6.ub / (R5.lb + R6.ub)\n",
    "assert vout_max == VOUT.ub"
   ]
  },
  {
   "cell_type": "markdown",
   "id": "f58f8f73-654b-4c93-b463-ed908ed29636",
   "metadata": {},
   "source": [
    "## Example 2: Unit Conversion Support"
   ]
  },
  {
   "cell_type": "code",
   "execution_count": 9,
   "id": "cc5abc73-4bee-42eb-885a-748bf3ecd4d9",
   "metadata": {},
   "outputs": [],
   "source": [
    "speed = param.bytol(10 * unit(\"mi/hr\"), tol=1, rel=True)"
   ]
  },
  {
   "cell_type": "code",
   "execution_count": 10,
   "id": "0c856ad0-3838-410a-9d4e-46b5a01053d3",
   "metadata": {},
   "outputs": [
    {
     "data": {
      "text/plain": [
       "<UnitsContainer({'[length]': 1, '[time]': -1})>"
      ]
     },
     "execution_count": 10,
     "metadata": {},
     "output_type": "execute_result"
    }
   ],
   "source": [
    "speed.dimensionality"
   ]
  },
  {
   "cell_type": "code",
   "execution_count": 11,
   "id": "f61d37f8-5958-4625-8772-c649db14a69e",
   "metadata": {},
   "outputs": [
    {
     "data": {
      "text/html": [
       "mile/hour"
      ],
      "text/latex": [
       "$\\frac{\\mathrm{mile}}{\\mathrm{hour}}$"
      ],
      "text/plain": [
       "<Unit('mile / hour')>"
      ]
     },
     "execution_count": 11,
     "metadata": {},
     "output_type": "execute_result"
    }
   ],
   "source": [
    "speed.units"
   ]
  },
  {
   "cell_type": "code",
   "execution_count": 12,
   "id": "b1f4e5d9-586f-44f4-82ac-a94e03dd5de3",
   "metadata": {},
   "outputs": [
    {
     "data": {
      "text/plain": [
       "4.4704 m/s (nom), 0 km/s (lb), 8.9408 m/s (ub)"
      ]
     },
     "execution_count": 12,
     "metadata": {},
     "output_type": "execute_result"
    }
   ],
   "source": [
    "speed.ito(\"km/s\")"
   ]
  }
 ],
 "metadata": {
  "kernelspec": {
   "display_name": "Python 3",
   "language": "python",
   "name": "python3"
  },
  "language_info": {
   "codemirror_mode": {
    "name": "ipython",
    "version": 3
   },
   "file_extension": ".py",
   "mimetype": "text/x-python",
   "name": "python",
   "nbconvert_exporter": "python",
   "pygments_lexer": "ipython3",
   "version": "3.9.4"
  }
 },
 "nbformat": 4,
 "nbformat_minor": 5
}
